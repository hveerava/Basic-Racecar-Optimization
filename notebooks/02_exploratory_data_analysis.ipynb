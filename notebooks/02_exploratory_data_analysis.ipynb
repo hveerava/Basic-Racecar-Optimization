{
 "cells": [
  {
   "cell_type": "code",
   "execution_count": null,
   "metadata": {},
   "outputs": [],
   "source": [
    "# 02_exploratory_data_analysis.ipynb\n",
    "\n",
    "import pandas as pd\n",
    "import seaborn as sns\n",
    "import matplotlib.pyplot as plt\n",
    "\n",
    "# Load the data\n",
    "telemetry_data = pd.read_csv('../data/cleaned_telemetry_data.csv')\n",
    "\n",
    "# Correlation matrix\n",
    "correlation_matrix = telemetry_data.corr()\n",
    "sns.heatmap(correlation_matrix, annot=True, cmap='coolwarm')\n",
    "plt.title('Correlation Matrix')\n",
    "plt.savefig('../reports/visualizations/correlation_matrix.png')\n",
    "plt.show()\n"
   ]
  }
 ],
 "metadata": {
  "language_info": {
   "name": "python"
  }
 },
 "nbformat": 4,
 "nbformat_minor": 2
}
