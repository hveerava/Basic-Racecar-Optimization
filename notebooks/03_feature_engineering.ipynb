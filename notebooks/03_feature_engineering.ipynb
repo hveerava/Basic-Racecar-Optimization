{
 "cells": [
  {
   "cell_type": "code",
   "execution_count": null,
   "metadata": {},
   "outputs": [],
   "source": [
    "# 03_feature_engineering.ipynb\n",
    "\n",
    "import pandas as pd\n",
    "\n",
    "# Load the data\n",
    "telemetry_data = pd.read_csv('../data/cleaned_telemetry_data.csv')\n",
    "\n",
    "# Feature engineering\n",
    "telemetry_data['acceleration'] = telemetry_data['speed'].diff() / telemetry_data['time'].diff()\n",
    "telemetry_data['acceleration'].fillna(0, inplace=True)\n",
    "\n",
    "# Save the data with new features\n",
    "telemetry_data.to_csv('../data/featured_telemetry_data.csv', index=False)\n"
   ]
  }
 ],
 "metadata": {
  "language_info": {
   "name": "python"
  }
 },
 "nbformat": 4,
 "nbformat_minor": 2
}
