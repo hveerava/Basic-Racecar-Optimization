{
 "cells": [
  {
   "cell_type": "code",
   "execution_count": null,
   "metadata": {},
   "outputs": [],
   "source": [
    "# 01_data_cleaning.ipynb\n",
    "\n",
    "import pandas as pd\n",
    "from sklearn.preprocessing import StandardScaler\n",
    "\n",
    "# Load the data\n",
    "telemetry_data = pd.read_csv('../data/telemetry_data.csv')\n",
    "\n",
    "# Data cleaning\n",
    "telemetry_data.dropna(inplace=True)\n",
    "\n",
    "# Data preprocessing\n",
    "scaler = StandardScaler()\n",
    "telemetry_data[['speed', 'rpm', 'throttle_position']] = scaler.fit_transform(telemetry_data[['speed', 'rpm', 'throttle_position']])\n",
    "\n",
    "# Save cleaned data\n",
    "telemetry_data.to_csv('../data/cleaned_telemetry_data.csv', index=False)\n"
   ]
  }
 ],
 "metadata": {
  "language_info": {
   "name": "python"
  }
 },
 "nbformat": 4,
 "nbformat_minor": 2
}
